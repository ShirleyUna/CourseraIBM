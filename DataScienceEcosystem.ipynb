{
 "cells": [
  {
   "cell_type": "markdown",
   "metadata": {},
   "source": [
    "<center>\n",
    "    <img src=\"https://cf-courses-data.s3.us.cloud-object-storage.appdomain.cloud/IBMDeveloperSkillsNetwork-DS0105EN-SkillsNetwork/labs/Module2/images/SN_web_lightmode.png\" width=\"300\" alt=\"cognitiveclass.ai logo\">\n",
    "</center>\n"
   ]
  },
  {
   "cell_type": "markdown",
   "metadata": {},
   "source": [
    "# Data Science Tools and Ecosystem"
   ]
  },
  {
   "cell_type": "markdown",
   "metadata": {},
   "source": [
    "## Author\n",
    "\n",
    "QIAN WANG"
   ]
  },
  {
   "cell_type": "markdown",
   "metadata": {},
   "source": [
    "## In this notebook, Data Science Tools and Ecosystem are summarized."
   ]
  },
  {
   "cell_type": "markdown",
   "metadata": {},
   "source": [
    "**Objectives:**\n",
    "\n",
    "- List popular languages for Data Science\n",
    "- Identify common libraries used in Data Science\n",
    "- Create a table in Markdown syntax\n",
    "- Evaluate arithmetic expressions in Python\n",
    "- Practice using Jupyter Notebook\n"
   ]
  },
  {
   "cell_type": "markdown",
   "metadata": {},
   "source": [
    "### Some of the popular languages that Data Scientists use are:\n",
    "\n",
    "#### 1. Python: Python is one of the most popular programming languages for data science, thanks to its simple syntax, wide range of libraries, and strong community support. It has a rich ecosystem of data science tools, such as NumPy, Pandas, Matplotlib, and Scikit-learn.\n",
    "#### 2. R: R is another popular programming language for data science, particularly in the academic and research communities. It has a wide range of statistical and graphical tools and is often used for data analysis, visualization, and modeling.\n",
    "#### 3. SQL: SQL is a domain-specific language used for managing relational databases. It is commonly used in data science to extract, manipulate, and query data from databases. Many data science projects involve working with large datasets stored in databases, and SQL is a key tool for managing and analyzing this data."
   ]
  },
  {
   "cell_type": "markdown",
   "metadata": {},
   "source": [
    "### Some of the commonly used libraries used by Data Scientists include:\n",
    "\n",
    "#### 1. NumPy: NumPy is a powerful library for scientific computing in Python. It provides support for large, multi-dimensional arrays and matrices, along with a large collection of mathematical functions to operate on these arrays. NumPy is an essential library for many data science tasks, including data cleaning, data manipulation, and machine learning.\n",
    "\n",
    "#### 2. Pandas: Pandas is another popular library in Python for data manipulation and analysis. It provides easy-to-use data structures for working with structured data, such as data frames and series. With Pandas, data scientists can easily load, clean, transform, and analyze data from a variety of sources, including CSV files, Excel spreadsheets, SQL databases, and more.\n",
    "\n",
    "#### 3. Matplotlib: Matplotlib is a library for data visualization in Python. It provides a wide range of customizable plots, charts, and graphs to help data scientists explore and present their data in a meaningful way. With Matplotlib, data scientists can create everything from basic line charts to complex heatmaps and 3D visualizations.\n",
    "\n",
    "#### 4. Scikit-learn: Scikit-learn is a powerful library for machine learning in Python. It provides a wide range of algorithms for classification, regression, clustering, and dimensionality reduction, along with tools for model selection and evaluation. Scikit-learn is an essential library for many data science projects, and it can be used in combination with other libraries like NumPy and Pandas.\n",
    "\n",
    "#### 5. TensorFlow: TensorFlow is a popular library for deep learning and neural network programming. It provides a wide range of tools and APIs for building and training machine learning models, including high-level APIs like Keras and low-level APIs like TensorFlow Core. TensorFlow is widely used in many data science applications, including image recognition, natural language processing, and predictive modeling."
   ]
  },
  {
   "cell_type": "markdown",
   "metadata": {},
   "source": [
    "###  Table of Data Science tools\n",
    "| Data Science Tools |\n",
    "| ------------------ |\n",
    "| Jupyter Notebook   |\n",
    "| RStudio            |\n",
    "| Apache Zeppelin    |"
   ]
  },
  {
   "cell_type": "markdown",
   "metadata": {},
   "source": [
    "### Below are a few examples of evaluating arithmetic expressions in Python."
   ]
  },
  {
   "cell_type": "code",
   "execution_count": 3,
   "metadata": {},
   "outputs": [
    {
     "data": {
      "text/plain": [
       "17"
      ]
     },
     "execution_count": 3,
     "metadata": {},
     "output_type": "execute_result"
    }
   ],
   "source": [
    "# This a simple arithmetic expression to mutiply then add integers\n",
    "(3*4)+5"
   ]
  },
  {
   "cell_type": "code",
   "execution_count": 6,
   "metadata": {},
   "outputs": [
    {
     "name": "stdout",
     "output_type": "stream",
     "text": [
      "200 minutes is 3.33 hours.\n"
     ]
    }
   ],
   "source": [
    "# This will convert 200 minutes to hours by diving by 60\n",
    "minutes = 200\n",
    "hours = minutes / 60\n",
    "print(f'{minutes} minutes is {hours:.2f} hours.')"
   ]
  },
  {
   "cell_type": "code",
   "execution_count": null,
   "metadata": {},
   "outputs": [],
   "source": []
  }
 ],
 "metadata": {
  "kernelspec": {
   "display_name": "Python",
   "language": "python",
   "name": "conda-env-python-py"
  },
  "language_info": {
   "codemirror_mode": {
    "name": "ipython",
    "version": 3
   },
   "file_extension": ".py",
   "mimetype": "text/x-python",
   "name": "python",
   "nbconvert_exporter": "python",
   "pygments_lexer": "ipython3",
   "version": "3.7.12"
  }
 },
 "nbformat": 4,
 "nbformat_minor": 4
}
